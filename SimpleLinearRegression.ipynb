{
  "nbformat": 4,
  "nbformat_minor": 0,
  "metadata": {
    "colab": {
      "provenance": [],
      "gpuType": "T4",
      "authorship_tag": "ABX9TyOolxba9i9un97t+cCXFuNb",
      "include_colab_link": true
    },
    "kernelspec": {
      "name": "python3",
      "display_name": "Python 3"
    },
    "language_info": {
      "name": "python"
    },
    "accelerator": "GPU"
  },
  "cells": [
    {
      "cell_type": "markdown",
      "metadata": {
        "id": "view-in-github",
        "colab_type": "text"
      },
      "source": [
        "<a href=\"https://colab.research.google.com/github/godpiss/PyTorch_excercises/blob/main/SimpleLinearRegression.ipynb\" target=\"_parent\"><img src=\"https://colab.research.google.com/assets/colab-badge.svg\" alt=\"Open In Colab\"/></a>"
      ]
    },
    {
      "cell_type": "code",
      "execution_count": 1,
      "metadata": {
        "id": "Ahc20_a-57_c",
        "colab": {
          "base_uri": "https://localhost:8080/"
        },
        "outputId": "53ae77af-e886-44b4-e2b3-db70739eb5a2"
      },
      "outputs": [
        {
          "output_type": "stream",
          "name": "stdout",
          "text": [
            "Requirement already satisfied: torch in /usr/local/lib/python3.10/dist-packages (2.1.0+cu121)\n",
            "Requirement already satisfied: filelock in /usr/local/lib/python3.10/dist-packages (from torch) (3.13.1)\n",
            "Requirement already satisfied: typing-extensions in /usr/local/lib/python3.10/dist-packages (from torch) (4.5.0)\n",
            "Requirement already satisfied: sympy in /usr/local/lib/python3.10/dist-packages (from torch) (1.12)\n",
            "Requirement already satisfied: networkx in /usr/local/lib/python3.10/dist-packages (from torch) (3.2.1)\n",
            "Requirement already satisfied: jinja2 in /usr/local/lib/python3.10/dist-packages (from torch) (3.1.3)\n",
            "Requirement already satisfied: fsspec in /usr/local/lib/python3.10/dist-packages (from torch) (2023.6.0)\n",
            "Requirement already satisfied: triton==2.1.0 in /usr/local/lib/python3.10/dist-packages (from torch) (2.1.0)\n",
            "Requirement already satisfied: MarkupSafe>=2.0 in /usr/local/lib/python3.10/dist-packages (from jinja2->torch) (2.1.3)\n",
            "Requirement already satisfied: mpmath>=0.19 in /usr/local/lib/python3.10/dist-packages (from sympy->torch) (1.3.0)\n"
          ]
        }
      ],
      "source": [
        "!pip install torch\n"
      ]
    },
    {
      "cell_type": "code",
      "source": [
        "import torch\n",
        "from torch import nn # nn contains all of PyTorch's building blocks for neural networks\n",
        "import matplotlib.pyplot as plt\n",
        "\n",
        "# Check PyTorch version\n",
        "torch.__version__"
      ],
      "metadata": {
        "colab": {
          "base_uri": "https://localhost:8080/",
          "height": 35
        },
        "id": "I9gqtQlw1o_u",
        "outputId": "18e0eb1c-32d5-4260-9fc2-ac4d7a11a429"
      },
      "execution_count": 2,
      "outputs": [
        {
          "output_type": "execute_result",
          "data": {
            "text/plain": [
              "'2.1.0+cu121'"
            ],
            "application/vnd.google.colaboratory.intrinsic+json": {
              "type": "string"
            }
          },
          "metadata": {},
          "execution_count": 2
        }
      ]
    },
    {
      "cell_type": "code",
      "source": [
        "# Check for GPU\n",
        "import torch\n",
        "torch.cuda.is_available()"
      ],
      "metadata": {
        "colab": {
          "base_uri": "https://localhost:8080/"
        },
        "id": "hyClKOVq150W",
        "outputId": "4f13c61d-7438-4ca0-8530-f45676a3f7eb"
      },
      "execution_count": 3,
      "outputs": [
        {
          "output_type": "execute_result",
          "data": {
            "text/plain": [
              "True"
            ]
          },
          "metadata": {},
          "execution_count": 3
        }
      ]
    },
    {
      "cell_type": "code",
      "source": [
        "# Set device type\n",
        "device = \"cuda\" if torch.cuda.is_available() else \"cpu\"\n",
        "device"
      ],
      "metadata": {
        "colab": {
          "base_uri": "https://localhost:8080/",
          "height": 35
        },
        "id": "s6IfHXed6ZxO",
        "outputId": "dc9cace9-0bc0-4d45-fd8b-0a7d54511a23"
      },
      "execution_count": 4,
      "outputs": [
        {
          "output_type": "execute_result",
          "data": {
            "text/plain": [
              "'cuda'"
            ],
            "application/vnd.google.colaboratory.intrinsic+json": {
              "type": "string"
            }
          },
          "metadata": {},
          "execution_count": 4
        }
      ]
    },
    {
      "cell_type": "code",
      "source": [
        "weight=0.3\n",
        "bias=0.9\n",
        "#create datapoinrs\n",
        "start=0\n",
        "end=10\n",
        "step=0.02\n",
        "X=  torch.arange(start,end,step)#FEATURES\n",
        "y=weight*X+bias#LABELS\n",
        "X.size()"
      ],
      "metadata": {
        "colab": {
          "base_uri": "https://localhost:8080/"
        },
        "id": "2H_NSZOqRrST",
        "outputId": "04129d77-5efa-4884-d6dc-e2338f2582f6"
      },
      "execution_count": 5,
      "outputs": [
        {
          "output_type": "execute_result",
          "data": {
            "text/plain": [
              "torch.Size([500])"
            ]
          },
          "metadata": {},
          "execution_count": 5
        }
      ]
    },
    {
      "cell_type": "code",
      "source": [
        "X[:10],y[:10]"
      ],
      "metadata": {
        "colab": {
          "base_uri": "https://localhost:8080/"
        },
        "id": "SgYGCPe1Vwgo",
        "outputId": "67bc6559-71bd-43e5-beac-fb969de03df2"
      },
      "execution_count": 6,
      "outputs": [
        {
          "output_type": "execute_result",
          "data": {
            "text/plain": [
              "(tensor([0.0000, 0.0200, 0.0400, 0.0600, 0.0800, 0.1000, 0.1200, 0.1400, 0.1600,\n",
              "         0.1800]),\n",
              " tensor([0.9000, 0.9060, 0.9120, 0.9180, 0.9240, 0.9300, 0.9360, 0.9420, 0.9480,\n",
              "         0.9540]))"
            ]
          },
          "metadata": {},
          "execution_count": 6
        }
      ]
    },
    {
      "cell_type": "code",
      "source": [
        "#TRAIN-TEST SPLIT\n",
        "train_split=int(0.8*len(X))\n",
        "X_train,y_train=X[:train_split],y[:train_split]\n",
        "X_test,y_test=X[train_split:],y[train_split:]\n",
        "\n",
        "X_train.size(),X_test.size()"
      ],
      "metadata": {
        "colab": {
          "base_uri": "https://localhost:8080/"
        },
        "id": "z57KhwEfWW12",
        "outputId": "5a1e630a-8058-4d79-8c78-2f0eb443dffb"
      },
      "execution_count": 7,
      "outputs": [
        {
          "output_type": "execute_result",
          "data": {
            "text/plain": [
              "(torch.Size([400]), torch.Size([100]))"
            ]
          },
          "metadata": {},
          "execution_count": 7
        }
      ]
    },
    {
      "cell_type": "code",
      "source": [
        "\n",
        "\n",
        "def plot_predictions(train_data=X_train,\n",
        "                     train_labels=y_train,\n",
        "                     test_data=X_test,\n",
        "                     test_labels=y_test,\n",
        "                     predictions=None):\n",
        "  \"\"\"\n",
        "  Plots training data, test data and compares predictions.\n",
        "  \"\"\"\n",
        "  plt.figure(figsize=(10, 7))\n",
        "\n",
        "  # Plot training data in blue\n",
        "  plt.scatter(train_data, train_labels, c=\"b\", s=4, label=\"Training data\")\n",
        "\n",
        "  # Plot test data in green\n",
        "  plt.scatter(test_data, test_labels, c=\"g\", s=4, label=\"Testing data\")\n",
        "\n",
        "  if predictions is not None:\n",
        "    # Plot the predictions in red (predictions were made on the test data)\n",
        "    plt.scatter(test_data, predictions, c=\"r\", s=4, label=\"Predictions\")\n",
        "\n",
        "  # Show the legend\n",
        "  plt.legend(prop={\"size\": 14});"
      ],
      "metadata": {
        "id": "UPUNjPwZXqPQ"
      },
      "execution_count": 30,
      "outputs": []
    },
    {
      "cell_type": "code",
      "source": [
        "class LinearRegressionModel(nn.Module):\n",
        "    def __init__(self):\n",
        "        super().__init__()\n",
        "        self.weights=nn.Parameter(torch.randn(1,dtype=torch.float),requires_grad=True)\n",
        "        self.bias=nn.Parameter(torch.randn(1,dtype=torch.float),requires_grad=True)\n",
        "\n",
        "    def forward(self,x):\n",
        "        return self.weights*x+self.bias\n",
        "\n",
        "\n"
      ],
      "metadata": {
        "id": "6uLWA9HeZ2YF"
      },
      "execution_count": 9,
      "outputs": []
    },
    {
      "cell_type": "code",
      "source": [
        "torch.manual_seed(42)\n",
        "model_0=LinearRegressionModel()\n",
        "list(model_0.parameters())"
      ],
      "metadata": {
        "colab": {
          "base_uri": "https://localhost:8080/"
        },
        "id": "NlBAvoobb9Od",
        "outputId": "b5d0aec1-f8e1-4561-bbf8-be07783d10ad"
      },
      "execution_count": 10,
      "outputs": [
        {
          "output_type": "execute_result",
          "data": {
            "text/plain": [
              "[Parameter containing:\n",
              " tensor([0.3367], requires_grad=True),\n",
              " Parameter containing:\n",
              " tensor([0.1288], requires_grad=True)]"
            ]
          },
          "metadata": {},
          "execution_count": 10
        }
      ]
    },
    {
      "cell_type": "code",
      "source": [
        "# List named parameters\n",
        "model_0.state_dict()"
      ],
      "metadata": {
        "colab": {
          "base_uri": "https://localhost:8080/"
        },
        "id": "vieC30DVc3-D",
        "outputId": "fa3dcc6f-742c-4174-cf92-ca94d6c6def4"
      },
      "execution_count": 11,
      "outputs": [
        {
          "output_type": "execute_result",
          "data": {
            "text/plain": [
              "OrderedDict([('weights', tensor([0.3367])), ('bias', tensor([0.1288]))])"
            ]
          },
          "metadata": {},
          "execution_count": 11
        }
      ]
    },
    {
      "cell_type": "code",
      "source": [
        "with torch.inference_mode():\n",
        "    y_pred=model_0(X_test)\n",
        ""
      ],
      "metadata": {
        "id": "C-c6EbLBfxBL"
      },
      "execution_count": 12,
      "outputs": []
    },
    {
      "cell_type": "code",
      "source": [
        "# Check the predictions\n",
        "print(f\"Number of testing samples: {len(X_test)}\")\n",
        "print(f\"Number of predictions made: {len(y_pred)}\")\n",
        "print(f\"Predicted values:\\n{y_pred}\")"
      ],
      "metadata": {
        "colab": {
          "base_uri": "https://localhost:8080/"
        },
        "id": "R8pOytXKgInY",
        "outputId": "41b1b858-e239-4c84-9504-76a392268b5b"
      },
      "execution_count": 13,
      "outputs": [
        {
          "output_type": "stream",
          "name": "stdout",
          "text": [
            "Number of testing samples: 100\n",
            "Number of predictions made: 100\n",
            "Predicted values:\n",
            "tensor([2.8223, 2.8291, 2.8358, 2.8425, 2.8493, 2.8560, 2.8627, 2.8695, 2.8762,\n",
            "        2.8829, 2.8897, 2.8964, 2.9031, 2.9099, 2.9166, 2.9233, 2.9301, 2.9368,\n",
            "        2.9435, 2.9503, 2.9570, 2.9637, 2.9705, 2.9772, 2.9839, 2.9907, 2.9974,\n",
            "        3.0041, 3.0109, 3.0176, 3.0243, 3.0311, 3.0378, 3.0445, 3.0513, 3.0580,\n",
            "        3.0647, 3.0715, 3.0782, 3.0850, 3.0917, 3.0984, 3.1052, 3.1119, 3.1186,\n",
            "        3.1254, 3.1321, 3.1388, 3.1456, 3.1523, 3.1590, 3.1658, 3.1725, 3.1792,\n",
            "        3.1860, 3.1927, 3.1994, 3.2062, 3.2129, 3.2196, 3.2264, 3.2331, 3.2398,\n",
            "        3.2466, 3.2533, 3.2600, 3.2668, 3.2735, 3.2802, 3.2870, 3.2937, 3.3004,\n",
            "        3.3072, 3.3139, 3.3206, 3.3274, 3.3341, 3.3408, 3.3476, 3.3543, 3.3610,\n",
            "        3.3678, 3.3745, 3.3812, 3.3880, 3.3947, 3.4014, 3.4082, 3.4149, 3.4216,\n",
            "        3.4284, 3.4351, 3.4418, 3.4486, 3.4553, 3.4620, 3.4688, 3.4755, 3.4822,\n",
            "        3.4890])\n"
          ]
        }
      ]
    },
    {
      "cell_type": "markdown",
      "source": [
        "## error:"
      ],
      "metadata": {
        "id": "pHEXW1P-griy"
      }
    },
    {
      "cell_type": "code",
      "source": [
        "y_test-y_pred"
      ],
      "metadata": {
        "colab": {
          "base_uri": "https://localhost:8080/"
        },
        "id": "P6DX3C-vu0-c",
        "outputId": "0854b2c5-677d-4bf5-f66a-0ef6b63ef8b9"
      },
      "execution_count": 14,
      "outputs": [
        {
          "output_type": "execute_result",
          "data": {
            "text/plain": [
              "tensor([0.4777, 0.4769, 0.4762, 0.4755, 0.4747, 0.4740, 0.4733, 0.4725, 0.4718,\n",
              "        0.4711, 0.4703, 0.4696, 0.4689, 0.4681, 0.4674, 0.4667, 0.4659, 0.4652,\n",
              "        0.4645, 0.4637, 0.4630, 0.4623, 0.4615, 0.4608, 0.4601, 0.4593, 0.4586,\n",
              "        0.4579, 0.4571, 0.4564, 0.4557, 0.4549, 0.4542, 0.4535, 0.4527, 0.4520,\n",
              "        0.4513, 0.4505, 0.4498, 0.4490, 0.4483, 0.4476, 0.4468, 0.4461, 0.4454,\n",
              "        0.4446, 0.4439, 0.4432, 0.4424, 0.4417, 0.4410, 0.4402, 0.4395, 0.4388,\n",
              "        0.4380, 0.4373, 0.4366, 0.4358, 0.4351, 0.4344, 0.4336, 0.4329, 0.4322,\n",
              "        0.4314, 0.4307, 0.4300, 0.4292, 0.4285, 0.4278, 0.4270, 0.4263, 0.4256,\n",
              "        0.4248, 0.4241, 0.4234, 0.4226, 0.4219, 0.4212, 0.4204, 0.4197, 0.4190,\n",
              "        0.4182, 0.4175, 0.4168, 0.4160, 0.4153, 0.4146, 0.4138, 0.4131, 0.4124,\n",
              "        0.4116, 0.4109, 0.4102, 0.4094, 0.4087, 0.4080, 0.4072, 0.4065, 0.4058,\n",
              "        0.4050])"
            ]
          },
          "metadata": {},
          "execution_count": 14
        }
      ]
    },
    {
      "cell_type": "code",
      "source": [
        "#since predictions are pretty bad as we guessing randomly , lets use optimizer and loss funtion\n",
        "loss_fn=nn.L1Loss()\n",
        "optimizer=torch.optim.SGD(params=model_0.parameters(),lr=0.01)\n"
      ],
      "metadata": {
        "id": "Vf5PRZj2vnR0"
      },
      "execution_count": 25,
      "outputs": []
    },
    {
      "cell_type": "code",
      "source": [
        "#pytorch training loop\n",
        "epochs=300\n",
        "train_loss_value=[]\n",
        "test_loss_value=[]\n",
        "epoch_count=[]\n",
        "for epoch in range(epochs):\n",
        "    model_0.train()\n",
        "    y_pred=model_0(X_train)\n",
        "    loss=loss_fn(y_pred,y_train)\n",
        "    optimizer.zero_grad()\n",
        "    loss.backward()\n",
        "    optimizer.step()\n",
        "\n",
        "    if epochs % 20 ==0:\n",
        "\n",
        "        model_0.eval()\n",
        "        test_loss=0.0\n",
        "        with torch.inference_mode():\n",
        "            test_pred=model_0(X_test)\n",
        "            test_loss=loss_fn(test_pred,y_test.type(torch.float))\n",
        "\n",
        "        if epoch % 20==0:\n",
        "            epoch_count.append(epoch)\n",
        "            train_loss_value.append(loss.detach().numpy())\n",
        "            test_loss_value.append(test_loss.detach().numpy())\n",
        "            print(f\"EpochL:{ epoch} |  MAE LOSS: {loss} | MAE TEST LOSS: {test_loss}\")\n",
        "\n",
        "\n",
        "\n"
      ],
      "metadata": {
        "colab": {
          "base_uri": "https://localhost:8080/"
        },
        "id": "nmwCFlFExMvH",
        "outputId": "c3192eb8-3311-4b46-b0be-ba0217a6da73"
      },
      "execution_count": 39,
      "outputs": [
        {
          "output_type": "stream",
          "name": "stdout",
          "text": [
            "EpochL:0 |  MAE LOSS: 0.03233407810330391 | MAE TEST LOSS: 0.30832430720329285\n",
            "EpochL:20 |  MAE LOSS: 0.03233407810330391 | MAE TEST LOSS: 0.30832430720329285\n",
            "EpochL:40 |  MAE LOSS: 0.03233407810330391 | MAE TEST LOSS: 0.30832430720329285\n",
            "EpochL:60 |  MAE LOSS: 0.03233407810330391 | MAE TEST LOSS: 0.30832430720329285\n",
            "EpochL:80 |  MAE LOSS: 0.03233407810330391 | MAE TEST LOSS: 0.30832430720329285\n",
            "EpochL:100 |  MAE LOSS: 0.03233407810330391 | MAE TEST LOSS: 0.30832430720329285\n",
            "EpochL:120 |  MAE LOSS: 0.03233407810330391 | MAE TEST LOSS: 0.30832430720329285\n",
            "EpochL:140 |  MAE LOSS: 0.03233407810330391 | MAE TEST LOSS: 0.30832430720329285\n",
            "EpochL:160 |  MAE LOSS: 0.03233407810330391 | MAE TEST LOSS: 0.30832430720329285\n",
            "EpochL:180 |  MAE LOSS: 0.03233407810330391 | MAE TEST LOSS: 0.30832430720329285\n",
            "EpochL:200 |  MAE LOSS: 0.03233407810330391 | MAE TEST LOSS: 0.30832430720329285\n",
            "EpochL:220 |  MAE LOSS: 0.03233407810330391 | MAE TEST LOSS: 0.30832430720329285\n",
            "EpochL:240 |  MAE LOSS: 0.03233407810330391 | MAE TEST LOSS: 0.30832430720329285\n",
            "EpochL:260 |  MAE LOSS: 0.03233407810330391 | MAE TEST LOSS: 0.30832430720329285\n",
            "EpochL:280 |  MAE LOSS: 0.03233407810330391 | MAE TEST LOSS: 0.30832430720329285\n"
          ]
        }
      ]
    },
    {
      "cell_type": "code",
      "source": [
        "# Plot the loss curves\n",
        "plt.plot(epoch_count, train_loss_value, label=\"Train loss\")\n",
        "plt.plot(epoch_count, test_loss_value, label=\"Test loss\")\n",
        "plt.title(\"Training and test loss curves\")\n",
        "plt.ylabel(\"Loss\")\n",
        "plt.xlabel(\"Epochs\")\n",
        "\n",
        "plt.legend();"
      ],
      "metadata": {
        "colab": {
          "base_uri": "https://localhost:8080/",
          "height": 472
        },
        "id": "uvzsQfmN59iB",
        "outputId": "16cb2e93-b25c-4ffe-d8d8-3a4f3c207ddd"
      },
      "execution_count": 40,
      "outputs": [
        {
          "output_type": "display_data",
          "data": {
            "text/plain": [
              "<Figure size 640x480 with 1 Axes>"
            ],
            "image/png": "[encoded data removed]"
          },
          "metadata": {}
        }
      ]
    },
    {
      "cell_type": "code",
      "source": [
        "# Find our model's learned parameters\n",
        "print(\"The model learned the following values for weights and bias:\")\n",
        "print(model_0.state_dict())\n",
        "print(\"\\nAnd the original values for weights and bias are:\")\n",
        "print(f\"weights: {weight}, bias: {bias}\")"
      ],
      "metadata": {
        "colab": {
          "base_uri": "https://localhost:8080/"
        },
        "id": "y7wwmWa86ejY",
        "outputId": "4f162f1f-b751-44c6-ef06-19fbe11942d9"
      },
      "execution_count": 41,
      "outputs": [
        {
          "output_type": "stream",
          "name": "stdout",
          "text": [
            "The model learned the following values for weights and bias:\n",
            "OrderedDict([('weights', tensor([0.2944])), ('bias', tensor([0.8900]))])\n",
            "\n",
            "And the original values for weights and bias are:\n",
            "weights: 0.3, bias: 0.9\n"
          ]
        }
      ]
    },
    {
      "cell_type": "code",
      "source": [
        "model_0.eval()\n",
        "with torch.inference_mode():\n",
        "    y_preds=model_0(X_test)\n",
        "y_preds"
      ],
      "metadata": {
        "colab": {
          "base_uri": "https://localhost:8080/"
        },
        "id": "rBris6Il9aVe",
        "outputId": "d58af7de-82d7-4fbc-c835-8f28fbbe4bea"
      },
      "execution_count": 29,
      "outputs": [
        {
          "output_type": "execute_result",
          "data": {
            "text/plain": [
              "tensor([3.2924, 3.2985, 3.3045, 3.3106, 3.3166, 3.3227, 3.3287, 3.3348, 3.3408,\n",
              "        3.3469, 3.3529, 3.3590, 3.3650, 3.3711, 3.3771, 3.3832, 3.3892, 3.3953,\n",
              "        3.4013, 3.4074, 3.4134, 3.4195, 3.4255, 3.4315, 3.4376, 3.4436, 3.4497,\n",
              "        3.4557, 3.4618, 3.4678, 3.4739, 3.4799, 3.4860, 3.4920, 3.4981, 3.5041,\n",
              "        3.5102, 3.5162, 3.5223, 3.5283, 3.5344, 3.5404, 3.5465, 3.5525, 3.5586,\n",
              "        3.5646, 3.5707, 3.5767, 3.5828, 3.5888, 3.5949, 3.6009, 3.6070, 3.6130,\n",
              "        3.6191, 3.6251, 3.6312, 3.6372, 3.6433, 3.6493, 3.6554, 3.6614, 3.6675,\n",
              "        3.6735, 3.6796, 3.6856, 3.6917, 3.6977, 3.7038, 3.7098, 3.7159, 3.7219,\n",
              "        3.7280, 3.7340, 3.7401, 3.7461, 3.7522, 3.7582, 3.7643, 3.7703, 3.7764,\n",
              "        3.7824, 3.7885, 3.7945, 3.8006, 3.8066, 3.8127, 3.8187, 3.8248, 3.8308,\n",
              "        3.8369, 3.8429, 3.8490, 3.8550, 3.8611, 3.8671, 3.8732, 3.8792, 3.8853,\n",
              "        3.8913])"
            ]
          },
          "metadata": {},
          "execution_count": 29
        }
      ]
    },
    {
      "cell_type": "code",
      "source": [
        "plot_predictions(predictions=y_preds)\n"
      ],
      "metadata": {
        "colab": {
          "base_uri": "https://localhost:8080/",
          "height": 599
        },
        "id": "KJ4QzFiz-OgP",
        "outputId": "ca054bec-0af3-4a50-ff84-e6b9e68d90e8"
      },
      "execution_count": 31,
      "outputs": [
        {
          "output_type": "display_data",
          "data": {
            "text/plain": [
              "<Figure size 1000x700 with 1 Axes>"
            ],
            "image/png": "[encoded data removed]"
          },
          "metadata": {}
        }
      ]
    },
    {
      "cell_type": "code",
      "source": [
        "from pathlib import Path\n",
        "model_path=Path(\"models\")\n",
        "model_path.mkdir(parents=True,exist_ok=True)\n",
        "\n",
        "model_name=\"Pytorch_LR_00\"\n",
        "model_save_path=model_path/model_name\n",
        "print(f\"Saving model to : {model_save_path}\")\n",
        "torch.save(obj=model_0.state_dict(),f=model_save_path)"
      ],
      "metadata": {
        "colab": {
          "base_uri": "https://localhost:8080/"
        },
        "id": "na8v-pFT-UOW",
        "outputId": "7a703b6f-7051-4b4a-b97d-c19014e3c7b9"
      },
      "execution_count": 33,
      "outputs": [
        {
          "output_type": "stream",
          "name": "stdout",
          "text": [
            "Saving model to : models/Pytorch_LR_00\n"
          ]
        }
      ]
    },
    {
      "cell_type": "code",
      "source": [
        "loaded_model_1=LinearRegressionModel()\n",
        "loaded_model_1.load_state_dict(torch.load(model_save_path))\n",
        "loaded_model_1.to(device)\n",
        "print(f\"Loaded model:\\n{loaded_model_1}\")\n",
        "print(f\"Model on device:\\n{next(loaded_model_1.parameters()).device}\")\n"
      ],
      "metadata": {
        "colab": {
          "base_uri": "https://localhost:8080/"
        },
        "id": "Kzk4DhdFDLSx",
        "outputId": "620d779a-9633-4e08-8c05-fe651ee06788"
      },
      "execution_count": 57,
      "outputs": [
        {
          "output_type": "stream",
          "name": "stdout",
          "text": [
            "Loaded model:\n",
            "LinearRegressionModel()\n",
            "Model on device:\n",
            "cuda:0\n"
          ]
        }
      ]
    },
    {
      "cell_type": "code",
      "source": [
        "# Evaluate loaded model\n",
        "loaded_model_1.eval()\n",
        "X_test = X_test.to(device)\n",
        "y_preds=y_preds.to(device)\n",
        "with torch.inference_mode():\n",
        "    loaded_model_1_preds = loaded_model_1(X_test)\n",
        "y_preds == loaded_model_1_preds"
      ],
      "metadata": {
        "colab": {
          "base_uri": "https://localhost:8080/"
        },
        "id": "BAvMIt3aHAVB",
        "outputId": "aa72e818-c794-4940-bc89-aa330831f4ac"
      },
      "execution_count": 58,
      "outputs": [
        {
          "output_type": "execute_result",
          "data": {
            "text/plain": [
              "tensor([True, True, True, True, True, True, True, True, True, True, True, True,\n",
              "        True, True, True, True, True, True, True, True, True, True, True, True,\n",
              "        True, True, True, True, True, True, True, True, True, True, True, True,\n",
              "        True, True, True, True, True, True, True, True, True, True, True, True,\n",
              "        True, True, True, True, True, True, True, True, True, True, True, True,\n",
              "        True, True, True, True, True, True, True, True, True, True, True, True,\n",
              "        True, True, True, True, True, True, True, True, True, True, True, True,\n",
              "        True, True, True, True, True, True, True, True, True, True, True, True,\n",
              "        True, True, True, True], device='cuda:0')"
            ]
          },
          "metadata": {},
          "execution_count": 58
        }
      ]
    },
    {
      "cell_type": "code",
      "source": [],
      "metadata": {
        "colab": {
          "base_uri": "https://localhost:8080/",
          "height": 140
        },
        "id": "1gqoFLOCHtXS",
        "outputId": "cd81958e-00dd-4840-8e6a-d263a76aad16"
      },
      "execution_count": 59,
      "outputs": [
        {
          "output_type": "error",
          "ename": "SyntaxError",
          "evalue": "invalid syntax (<ipython-input-59-f188d5ac1197>, line 1)",
          "traceback": [
            "\u001b[0;36m  File \u001b[0;32m\"<ipython-input-59-f188d5ac1197>\"\u001b[0;36m, line \u001b[0;32m1\u001b[0m\n\u001b[0;31m    git init\u001b[0m\n\u001b[0m        ^\u001b[0m\n\u001b[0;31mSyntaxError\u001b[0m\u001b[0;31m:\u001b[0m invalid syntax\n"
          ]
        }
      ]
    },
    {
      "cell_type": "code",
      "source": [],
      "metadata": {
        "id": "d3N2FRJOKzRh"
      },
      "execution_count": null,
      "outputs": []
    }
  ]
}